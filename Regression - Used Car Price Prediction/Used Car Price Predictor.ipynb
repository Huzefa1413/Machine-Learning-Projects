{
 "cells": [
  {
   "cell_type": "code",
   "execution_count": 1,
   "id": "5e6beafb",
   "metadata": {},
   "outputs": [],
   "source": [
    "import numpy as np\n",
    "import pandas as pd\n",
    "from sklearn.compose import ColumnTransformer\n",
    "from sklearn.preprocessing import OneHotEncoder\n",
    "from sklearn.model_selection import train_test_split\n",
    "from sklearn.ensemble import RandomForestRegressor\n",
    "from sklearn.metrics import r2_score\n",
    "import joblib"
   ]
  },
  {
   "cell_type": "code",
   "execution_count": 2,
   "id": "59b62eb6",
   "metadata": {},
   "outputs": [],
   "source": [
    "dataset = pd.read_csv('clean_used_car.csv')\n",
    "X = dataset.drop(columns='price').values\n",
    "y = dataset.iloc[:,5].values\n",
    "ct = ColumnTransformer(transformers=[('encoder',OneHotEncoder(),[0,1,2,6])],remainder='passthrough')\n",
    "X = ct.fit_transform(X)\n",
    "X = X.toarray() if hasattr(X, 'toarray') else X\n",
    "X_train, X_test, y_train, y_test = train_test_split(X,y,test_size=0.2)\n",
    "regressor = RandomForestRegressor(n_estimators=5)\n",
    "regressor.fit(X_train,y_train)\n",
    "y_pred = regressor.predict(X_test)"
   ]
  },
  {
   "cell_type": "code",
   "execution_count": 3,
   "id": "44e2f899",
   "metadata": {},
   "outputs": [],
   "source": [
    "joblib.dump(regressor, 'RegressionModel.pkl')\n",
    "joblib.dump(ct, 'ColumnTransformer.pkl')"
   ]
  },
  {
   "cell_type": "code",
   "execution_count": 4,
   "id": "1cc8db57",
   "metadata": {},
   "outputs": [],
   "source": [
    "# [[brand,name,fuel_type, mileage, model, engine, transmission\n",
    "# prediction = [['MG', 'HS', 'Petrol', 6000, 2021, 1490, 'Automatic']]\n",
    "def predict_price(prediction):\n",
    "    prediction = ct.transform(prediction)\n",
    "    prediction = prediction.toarray() if hasattr (prediction, 'toarray') else prediction\n",
    "    return regressor.predict(prediction)[0]"
   ]
  },
  {
   "cell_type": "code",
   "execution_count": 5,
   "id": "b16e0048",
   "metadata": {},
   "outputs": [],
   "source": [
    "predict_price([['MG', 'HS', 'Petrol', 6000, 2021, 1490, 'Automatic']])"
   ]
  }
 ],
 "metadata": {
  "kernelspec": {
   "display_name": "Python 3 (ipykernel)",
   "language": "python",
   "name": "python3"
  },
  "language_info": {
   "codemirror_mode": {
    "name": "ipython",
    "version": 3
   },
   "file_extension": ".py",
   "mimetype": "text/x-python",
   "name": "python",
   "nbconvert_exporter": "python",
   "pygments_lexer": "ipython3",
   "version": "3.9.13"
  }
 },
 "nbformat": 4,
 "nbformat_minor": 5
}
