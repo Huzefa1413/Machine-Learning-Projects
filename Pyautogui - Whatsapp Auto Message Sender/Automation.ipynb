{
 "cells": [
  {
   "cell_type": "markdown",
   "id": "f01b5ca7",
   "metadata": {},
   "source": [
    "# Automating Tasks"
   ]
  },
  {
   "cell_type": "code",
   "execution_count": 1,
   "id": "cbaedeb1",
   "metadata": {},
   "outputs": [
    {
     "name": "stdout",
     "output_type": "stream",
     "text": [
      "Defaulting to user installation because normal site-packages is not writeable\n",
      "Requirement already satisfied: pyautogui in c:\\users\\huzef\\appdata\\roaming\\python\\python39\\site-packages (0.9.53)\n",
      "Requirement already satisfied: pygetwindow>=0.0.5 in c:\\users\\huzef\\appdata\\roaming\\python\\python39\\site-packages (from pyautogui) (0.0.9)\n",
      "Requirement already satisfied: pymsgbox in c:\\users\\huzef\\appdata\\roaming\\python\\python39\\site-packages (from pyautogui) (1.0.9)\n",
      "Requirement already satisfied: mouseinfo in c:\\users\\huzef\\appdata\\roaming\\python\\python39\\site-packages (from pyautogui) (0.1.3)\n",
      "Requirement already satisfied: pyscreeze>=0.1.21 in c:\\users\\huzef\\appdata\\roaming\\python\\python39\\site-packages (from pyautogui) (0.1.28)\n",
      "Requirement already satisfied: PyTweening>=1.0.1 in c:\\users\\huzef\\appdata\\roaming\\python\\python39\\site-packages (from pyautogui) (1.0.7)\n",
      "Requirement already satisfied: pyrect in c:\\users\\huzef\\appdata\\roaming\\python\\python39\\site-packages (from pygetwindow>=0.0.5->pyautogui) (0.2.0)\n",
      "Requirement already satisfied: pyperclip in c:\\users\\huzef\\appdata\\roaming\\python\\python39\\site-packages (from mouseinfo->pyautogui) (1.8.2)\n"
     ]
    }
   ],
   "source": [
    "!pip install pyautogui"
   ]
  },
  {
   "cell_type": "code",
   "execution_count": 2,
   "id": "ba2e975e",
   "metadata": {},
   "outputs": [],
   "source": [
    "import pyautogui"
   ]
  },
  {
   "cell_type": "code",
   "execution_count": 5,
   "id": "ea001a0d",
   "metadata": {},
   "outputs": [
    {
     "name": "stdout",
     "output_type": "stream",
     "text": [
      "Enter your automated message reciever:Huzefa\n",
      "Enter your automated message:Hi, this is an automated message.\n",
      "Enter the number of times you want to send the message:10\n"
     ]
    }
   ],
   "source": [
    "recieversname = input(\"Enter your automated message reciever:\")\n",
    "messagetosend = input(\"Enter your automated message:\")\n",
    "numberoftimes = int(input(\"Enter the number of times you want to send the message:\"))"
   ]
  },
  {
   "cell_type": "code",
   "execution_count": 6,
   "id": "ac6a6163",
   "metadata": {},
   "outputs": [],
   "source": [
    "pyautogui.moveTo(270,16,1) # click on + icon\n",
    "pyautogui.click()\n",
    "pyautogui.write(\"https://web.whatsapp.com/\",0.001)\n",
    "pyautogui.press(\"enter\")\n",
    "pyautogui.moveTo(110,185,10) # click on searchbar\n",
    "pyautogui.click()\n",
    "pyautogui.hotkey('ctrl','a') # to clear already written name\n",
    "pyautogui.write(recieversname,0.1)\n",
    "pyautogui.moveTo(160,323,1)\n",
    "pyautogui.click()\n",
    "for i in range(numberoftimes):\n",
    "    pyautogui.write(messagetosend,0.001)\n",
    "    pyautogui.press(\"enter\")"
   ]
  },
  {
   "cell_type": "code",
   "execution_count": null,
   "id": "5243d898",
   "metadata": {},
   "outputs": [],
   "source": []
  }
 ],
 "metadata": {
  "kernelspec": {
   "display_name": "Python 3 (ipykernel)",
   "language": "python",
   "name": "python3"
  },
  "language_info": {
   "codemirror_mode": {
    "name": "ipython",
    "version": 3
   },
   "file_extension": ".py",
   "mimetype": "text/x-python",
   "name": "python",
   "nbconvert_exporter": "python",
   "pygments_lexer": "ipython3",
   "version": "3.9.13"
  }
 },
 "nbformat": 4,
 "nbformat_minor": 5
}
