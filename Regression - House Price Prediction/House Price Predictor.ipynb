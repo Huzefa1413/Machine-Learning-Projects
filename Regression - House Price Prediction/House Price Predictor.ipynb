{
 "cells": [
  {
   "cell_type": "code",
   "execution_count": 199,
   "id": "42b39999",
   "metadata": {},
   "outputs": [],
   "source": [
    "import pandas as pd\n",
    "import numpy as np"
   ]
  },
  {
   "cell_type": "code",
   "execution_count": 200,
   "id": "07b168eb",
   "metadata": {},
   "outputs": [],
   "source": [
    "df = pd.read_csv('data.csv')"
   ]
  },
  {
   "cell_type": "code",
   "execution_count": 201,
   "id": "f455f268",
   "metadata": {},
   "outputs": [],
   "source": [
    "def convert_to_numeric(value):\n",
    "    try:\n",
    "        return pd.to_numeric(value)\n",
    "    except:\n",
    "        return None\n",
    "df['Beds'] = df['Beds'].apply(convert_to_numeric)\n",
    "df['Baths'] = df['Baths'].apply(convert_to_numeric)\n",
    "df.dropna(inplace=True)\n",
    "df['Beds'] = df['Beds'].astype('int64')\n",
    "df['Baths'] = df['Baths'].astype('int64')"
   ]
  },
  {
   "cell_type": "code",
   "execution_count": 202,
   "id": "74140fec",
   "metadata": {},
   "outputs": [],
   "source": [
    "pattern = r'PKR([\\d.]+) (\\w+)'\n",
    "extracted_data = df['Price'].str.extract(pattern)\n",
    "extracted_data.columns = ['Numeric', 'Unit']\n",
    "\n",
    "def convert_value(row):\n",
    "    numeric = float(row['Numeric'])\n",
    "    unit = row['Unit']\n",
    "    if unit == 'Crore':\n",
    "        return numeric * 10000000  # Crore to actual value\n",
    "    elif unit == 'Lakh':\n",
    "        return numeric * 100000    # Lakh to actual value\n",
    "    elif unit == 'Arab':\n",
    "        return numeric * 1000000000 \n",
    "    else:\n",
    "        return numeric\n",
    "\n",
    "extracted_data['Converted'] = extracted_data.apply(convert_value, axis=1)\n",
    "\n",
    "df['Price'] = extracted_data['Converted']\n",
    "df['Price'] = df['Price'].astype('int64')"
   ]
  },
  {
   "cell_type": "code",
   "execution_count": 203,
   "id": "356ab914",
   "metadata": {},
   "outputs": [],
   "source": [
    "df[['Area Number', 'Area Unit']] = df['Area'].str.extract(r'(\\d+) (\\w+)')\n",
    "df['Area Number'] = df['Area Number'].astype('int64')"
   ]
  },
  {
   "cell_type": "code",
   "execution_count": 204,
   "id": "38fc1c30",
   "metadata": {},
   "outputs": [],
   "source": [
    "df = df.drop(columns='Area')\n",
    "df = df.reset_index(drop=True)"
   ]
  },
  {
   "cell_type": "code",
   "execution_count": 205,
   "id": "43f9917d",
   "metadata": {},
   "outputs": [],
   "source": [
    "df['Rooms'] = df['Baths'] + df['Beds'] + df['Dining Room'] + df['Laundry Room'] + df['Store Rooms'] + df['Kitchens'] + df['Drawing Room'] + df['Gym'] + df['Powder Room'] + df['Steam Room'] + df['No additional rooms'] + df['Prayer Rooms'] + df['Lounge or Sitting Room']\n",
    "df = df.drop(columns=['Baths','Beds','Dining Room','Laundry Room','Store Rooms','Kitchens','Drawing Room','Gym','Powder Room','Steam Room','No additional rooms','Prayer Rooms','Lounge or Sitting Room'])"
   ]
  },
  {
   "cell_type": "code",
   "execution_count": 206,
   "id": "fb0990b3",
   "metadata": {
    "scrolled": true
   },
   "outputs": [],
   "source": [
    "from sklearn.preprocessing import LabelEncoder\n",
    "le = LabelEncoder()\n",
    "df['Area Unit'] = le.fit_transform(df['Area Unit'])"
   ]
  },
  {
   "cell_type": "code",
   "execution_count": 207,
   "id": "9f57c761",
   "metadata": {},
   "outputs": [],
   "source": [
    "df['Location_ID'] = pd.factorize(df['Location'])[0]\n",
    "locations = pd.DataFrame({'Location': df['Location'], 'Location_ID': df['Location_ID']})"
   ]
  },
  {
   "cell_type": "code",
   "execution_count": 208,
   "id": "1fc9f61a",
   "metadata": {},
   "outputs": [],
   "source": [
    "X = df.iloc[:,2:].values\n",
    "y = df.iloc[:,1].values"
   ]
  },
  {
   "cell_type": "code",
   "execution_count": 209,
   "id": "a85e13d4",
   "metadata": {},
   "outputs": [],
   "source": [
    "from sklearn.model_selection import train_test_split\n",
    "X_train, X_test, y_train, y_test = train_test_split(X,y,test_size=0.2)"
   ]
  },
  {
   "cell_type": "code",
   "execution_count": 210,
   "id": "ca6e43fc",
   "metadata": {},
   "outputs": [
    {
     "name": "stdout",
     "output_type": "stream",
     "text": [
      "Mean Absolute Error: 16474259.103304736\n",
      "Mean Squared Error: 2267748017463384.0\n",
      "Root Mean Squared Error: 47620877.957712874\n",
      "R-squared: 0.8087457055330998\n"
     ]
    }
   ],
   "source": [
    "from sklearn.ensemble import RandomForestRegressor\n",
    "regressor = RandomForestRegressor(n_estimators=10)\n",
    "regressor.fit(X_train,y_train)\n",
    "\n",
    "y_pred = regressor.predict(X_test)\n",
    "\n",
    "from sklearn.metrics import mean_absolute_error, mean_squared_error, r2_score\n",
    "\n",
    "mae = mean_absolute_error(y_test, y_pred)\n",
    "mse = mean_squared_error(y_test, y_pred)\n",
    "rmse = mean_squared_error(y_test, y_pred, squared=False)  # RMSE is the square root of MSE\n",
    "r2 = r2_score(y_test, y_pred)\n",
    "\n",
    "# Print the metrics\n",
    "print(\"Mean Absolute Error:\", mae)\n",
    "print(\"Mean Squared Error:\", mse)\n",
    "print(\"Root Mean Squared Error:\", rmse)\n",
    "print(\"R-squared:\", r2)"
   ]
  },
  {
   "cell_type": "code",
   "execution_count": 211,
   "id": "33ddbea6",
   "metadata": {},
   "outputs": [
    {
     "data": {
      "text/plain": [
       "array([92185609.55998024])"
      ]
     },
     "execution_count": 211,
     "metadata": {},
     "output_type": "execute_result"
    }
   ],
   "source": [
    "def predict_house_price(data):\n",
    "    return regressor.predict(data)\n",
    "predict_house_price([[1,0,11,2]])"
   ]
  },
  {
   "cell_type": "code",
   "execution_count": 212,
   "id": "cdbf017c",
   "metadata": {},
   "outputs": [],
   "source": [
    "import pickle\n",
    "pickle.dump(regressor,open('Regressor.pkl','wb'))\n",
    "pickle.dump(locations,open('Location.pkl','wb'))"
   ]
  }
 ],
 "metadata": {
  "kernelspec": {
   "display_name": "Python 3 (ipykernel)",
   "language": "python",
   "name": "python3"
  },
  "language_info": {
   "codemirror_mode": {
    "name": "ipython",
    "version": 3
   },
   "file_extension": ".py",
   "mimetype": "text/x-python",
   "name": "python",
   "nbconvert_exporter": "python",
   "pygments_lexer": "ipython3",
   "version": "3.11.4"
  }
 },
 "nbformat": 4,
 "nbformat_minor": 5
}
